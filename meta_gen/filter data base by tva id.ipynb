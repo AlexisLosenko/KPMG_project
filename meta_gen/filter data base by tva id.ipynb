{
 "cells": [
  {
   "cell_type": "code",
   "execution_count": 1,
   "metadata": {},
   "outputs": [
    {
     "name": "stdout",
     "output_type": "stream",
     "text": [
      "loading tables\n"
     ]
    },
    {
     "name": "stderr",
     "output_type": "stream",
     "text": [
      "/home/sebchko/anaconda3/lib/python3.7/site-packages/IPython/core/interactiveshell.py:3057: DtypeWarning: Columns (2,3,4,12) have mixed types. Specify dtype option on import or set low_memory=False.\n",
      "  interactivity=interactivity, compiler=compiler, result=result)\n"
     ]
    }
   ],
   "source": [
    "import pandas as pd\n",
    "\n",
    "\n",
    "\n",
    "print('loading tables')\n",
    "\n",
    "activity = pd.read_csv('./OpenData/activity.csv')\n",
    "table02 = pd.read_csv('./OpenData/address.csv')\n",
    "table03 = pd.read_csv('./OpenData/code.csv')\n",
    "table04 = pd.read_csv('./OpenData/contact.csv')\n",
    "table05 = pd.read_csv('./OpenData/denomination.csv')\n",
    "table06 = pd.read_csv('./OpenData/enterprise.csv')\n",
    "table07 = pd.read_csv('./OpenData/establishment.csv')\n",
    "\n"
   ]
  },
  {
   "cell_type": "code",
   "execution_count": 2,
   "metadata": {},
   "outputs": [
    {
     "data": {
      "text/html": [
       "<div>\n",
       "<style scoped>\n",
       "    .dataframe tbody tr th:only-of-type {\n",
       "        vertical-align: middle;\n",
       "    }\n",
       "\n",
       "    .dataframe tbody tr th {\n",
       "        vertical-align: top;\n",
       "    }\n",
       "\n",
       "    .dataframe thead th {\n",
       "        text-align: right;\n",
       "    }\n",
       "</style>\n",
       "<table border=\"1\" class=\"dataframe\">\n",
       "  <thead>\n",
       "    <tr style=\"text-align: right;\">\n",
       "      <th></th>\n",
       "      <th>EntityNumber</th>\n",
       "      <th>ActivityGroup</th>\n",
       "      <th>NaceVersion</th>\n",
       "      <th>NaceCode</th>\n",
       "      <th>Classification</th>\n",
       "    </tr>\n",
       "  </thead>\n",
       "  <tbody>\n",
       "    <tr>\n",
       "      <th>0</th>\n",
       "      <td>0200.065.765</td>\n",
       "      <td>PPO001</td>\n",
       "      <td>2008</td>\n",
       "      <td>84130</td>\n",
       "      <td>MAIN</td>\n",
       "    </tr>\n",
       "    <tr>\n",
       "      <th>1</th>\n",
       "      <td>0200.065.765</td>\n",
       "      <td>BTW001</td>\n",
       "      <td>2008</td>\n",
       "      <td>41101</td>\n",
       "      <td>MAIN</td>\n",
       "    </tr>\n",
       "    <tr>\n",
       "      <th>2</th>\n",
       "      <td>0200.065.765</td>\n",
       "      <td>BTW001</td>\n",
       "      <td>2003</td>\n",
       "      <td>70111</td>\n",
       "      <td>MAIN</td>\n",
       "    </tr>\n",
       "    <tr>\n",
       "      <th>3</th>\n",
       "      <td>0200.068.636</td>\n",
       "      <td>PPO001</td>\n",
       "      <td>2008</td>\n",
       "      <td>36000</td>\n",
       "      <td>MAIN</td>\n",
       "    </tr>\n",
       "    <tr>\n",
       "      <th>4</th>\n",
       "      <td>0200.068.636</td>\n",
       "      <td>BTW001</td>\n",
       "      <td>2008</td>\n",
       "      <td>36000</td>\n",
       "      <td>MAIN</td>\n",
       "    </tr>\n",
       "  </tbody>\n",
       "</table>\n",
       "</div>"
      ],
      "text/plain": [
       "   EntityNumber ActivityGroup  NaceVersion  NaceCode Classification\n",
       "0  0200.065.765        PPO001         2008     84130           MAIN\n",
       "1  0200.065.765        BTW001         2008     41101           MAIN\n",
       "2  0200.065.765        BTW001         2003     70111           MAIN\n",
       "3  0200.068.636        PPO001         2008     36000           MAIN\n",
       "4  0200.068.636        BTW001         2008     36000           MAIN"
      ]
     },
     "execution_count": 2,
     "metadata": {},
     "output_type": "execute_result"
    }
   ],
   "source": [
    "activity.head()"
   ]
  },
  {
   "cell_type": "code",
   "execution_count": 7,
   "metadata": {},
   "outputs": [
    {
     "data": {
      "text/html": [
       "<div>\n",
       "<style scoped>\n",
       "    .dataframe tbody tr th:only-of-type {\n",
       "        vertical-align: middle;\n",
       "    }\n",
       "\n",
       "    .dataframe tbody tr th {\n",
       "        vertical-align: top;\n",
       "    }\n",
       "\n",
       "    .dataframe thead th {\n",
       "        text-align: right;\n",
       "    }\n",
       "</style>\n",
       "<table border=\"1\" class=\"dataframe\">\n",
       "  <thead>\n",
       "    <tr style=\"text-align: right;\">\n",
       "      <th></th>\n",
       "      <th>0</th>\n",
       "      <th>1</th>\n",
       "    </tr>\n",
       "  </thead>\n",
       "  <tbody>\n",
       "    <tr>\n",
       "      <th>0</th>\n",
       "      <td>716964414</td>\n",
       "      <td>0716.964.414</td>\n",
       "    </tr>\n",
       "    <tr>\n",
       "      <th>1</th>\n",
       "      <td>716672523</td>\n",
       "      <td>0716.672.523</td>\n",
       "    </tr>\n",
       "    <tr>\n",
       "      <th>2</th>\n",
       "      <td>716964315</td>\n",
       "      <td>0716.964.315</td>\n",
       "    </tr>\n",
       "    <tr>\n",
       "      <th>3</th>\n",
       "      <td>716966788</td>\n",
       "      <td>0716.966.788</td>\n",
       "    </tr>\n",
       "    <tr>\n",
       "      <th>4</th>\n",
       "      <td>422460536</td>\n",
       "      <td>0422.460.536</td>\n",
       "    </tr>\n",
       "  </tbody>\n",
       "</table>\n",
       "</div>"
      ],
      "text/plain": [
       "           0             1\n",
       "0  716964414  0716.964.414\n",
       "1  716672523  0716.672.523\n",
       "2  716964315  0716.964.315\n",
       "3  716966788  0716.966.788\n",
       "4  422460536  0422.460.536"
      ]
     },
     "execution_count": 7,
     "metadata": {},
     "output_type": "execute_result"
    }
   ],
   "source": [
    "token = pd.read_json('token.json')\n",
    "token.drop_duplicates(inplace=True)\n",
    "token[1]= '0'+token[0].astype(str).str[:3]+'.'+token[0].astype(str).str[3:6]+'.'+token[0].astype(str).str[6:9]\n",
    "token.head()\n"
   ]
  },
  {
   "cell_type": "code",
   "execution_count": 8,
   "metadata": {},
   "outputs": [],
   "source": [
    "token = token[1].tolist()"
   ]
  },
  {
   "cell_type": "code",
   "execution_count": 23,
   "metadata": {},
   "outputs": [
    {
     "data": {
      "text/plain": [
       "32888"
      ]
     },
     "execution_count": 23,
     "metadata": {},
     "output_type": "execute_result"
    }
   ],
   "source": [
    "len(token)"
   ]
  },
  {
   "cell_type": "code",
   "execution_count": 9,
   "metadata": {},
   "outputs": [],
   "source": [
    "activity = activity[activity.EntityNumber.isin(token)]"
   ]
  },
  {
   "cell_type": "code",
   "execution_count": 10,
   "metadata": {},
   "outputs": [
    {
     "name": "stdout",
     "output_type": "stream",
     "text": [
      "<class 'pandas.core.frame.DataFrame'>\n",
      "Int64Index: 52044 entries, 4440 to 3340634\n",
      "Data columns (total 5 columns):\n",
      "EntityNumber      52044 non-null object\n",
      "ActivityGroup     52044 non-null object\n",
      "NaceVersion       52044 non-null int64\n",
      "NaceCode          52044 non-null int64\n",
      "Classification    52044 non-null object\n",
      "dtypes: int64(2), object(3)\n",
      "memory usage: 2.4+ MB\n"
     ]
    }
   ],
   "source": [
    "activity.info()"
   ]
  },
  {
   "cell_type": "code",
   "execution_count": 20,
   "metadata": {},
   "outputs": [],
   "source": [
    "table02 = table02[table02.EntityNumber.isin(token)]\n",
    "table04 = table04[table04.EntityNumber.isin(token)]\n",
    "table05 = table05[table05.EntityNumber.isin(token)]\n",
    "table06 = table06[table06.EnterpriseNumber.isin(token)]\n",
    "table07 = table07[table07.EnterpriseNumber.isin(token)]"
   ]
  },
  {
   "cell_type": "code",
   "execution_count": 21,
   "metadata": {},
   "outputs": [
    {
     "name": "stdout",
     "output_type": "stream",
     "text": [
      "<class 'pandas.core.frame.DataFrame'>\n",
      "Int64Index: 29796 entries, 4388 to 1688584\n",
      "Data columns (total 13 columns):\n",
      "EntityNumber        29796 non-null object\n",
      "TypeOfAddress       29796 non-null object\n",
      "CountryNL           168 non-null object\n",
      "CountryFR           168 non-null object\n",
      "Zipcode             29770 non-null object\n",
      "MunicipalityNL      29796 non-null object\n",
      "MunicipalityFR      29796 non-null object\n",
      "StreetNL            29792 non-null object\n",
      "StreetFR            29792 non-null object\n",
      "HouseNumber         29782 non-null object\n",
      "Box                 4755 non-null object\n",
      "ExtraAddressInfo    55 non-null object\n",
      "DateStrikingOff     50 non-null object\n",
      "dtypes: object(13)\n",
      "memory usage: 3.2+ MB\n",
      "None\n",
      "<class 'pandas.core.frame.DataFrame'>\n",
      "Int64Index: 6784 entries, 10413 to 108019\n",
      "Data columns (total 4 columns):\n",
      "EntityNumber     6784 non-null object\n",
      "EntityContact    6784 non-null object\n",
      "ContactType      6784 non-null object\n",
      "Value            6784 non-null object\n",
      "dtypes: object(4)\n",
      "memory usage: 265.0+ KB\n",
      "None\n",
      "<class 'pandas.core.frame.DataFrame'>\n",
      "Int64Index: 33680 entries, 4840 to 1858801\n",
      "Data columns (total 4 columns):\n",
      "EntityNumber          33680 non-null object\n",
      "Language              33680 non-null int64\n",
      "TypeOfDenomination    33680 non-null int64\n",
      "Denomination          33680 non-null object\n",
      "dtypes: int64(2), object(2)\n",
      "memory usage: 1.3+ MB\n",
      "None\n",
      "<class 'pandas.core.frame.DataFrame'>\n",
      "Int64Index: 29639 entries, 4388 to 1748093\n",
      "Data columns (total 6 columns):\n",
      "EnterpriseNumber      29639 non-null object\n",
      "Status                29639 non-null object\n",
      "JuridicalSituation    29639 non-null int64\n",
      "TypeOfEnterprise      29639 non-null int64\n",
      "JuridicalForm         29639 non-null float64\n",
      "StartDate             29639 non-null object\n",
      "dtypes: float64(1), int64(2), object(3)\n",
      "memory usage: 1.6+ MB\n",
      "None\n",
      "<class 'pandas.core.frame.DataFrame'>\n",
      "Int64Index: 21099 entries, 484 to 1458977\n",
      "Data columns (total 3 columns):\n",
      "EstablishmentNumber    21099 non-null object\n",
      "StartDate              21099 non-null object\n",
      "EnterpriseNumber       21099 non-null object\n",
      "dtypes: object(3)\n",
      "memory usage: 659.3+ KB\n",
      "None\n"
     ]
    }
   ],
   "source": [
    "print(table02.info())\n",
    "print(table04.info())\n",
    "print(table05.info())\n",
    "print(table06.info())\n",
    "print(table07.info())"
   ]
  },
  {
   "cell_type": "code",
   "execution_count": 22,
   "metadata": {},
   "outputs": [],
   "source": [
    "activity.to_csv('./OpenData/activity_f.csv')\n",
    "table02.to_csv('./OpenData/address_f.csv')\n",
    "table04.to_csv('./OpenData/contact_f.csv')\n",
    "table05.to_csv('./OpenData/denomination_f.csv')\n",
    "table06.to_csv('./OpenData/enterprise_f.csv')\n",
    "table07.to_csv('./OpenData/establishment_f.csv')"
   ]
  },
  {
   "cell_type": "code",
   "execution_count": null,
   "metadata": {},
   "outputs": [],
   "source": []
  }
 ],
 "metadata": {
  "kernelspec": {
   "display_name": "Python 3",
   "language": "python",
   "name": "python3"
  },
  "language_info": {
   "codemirror_mode": {
    "name": "ipython",
    "version": 3
   },
   "file_extension": ".py",
   "mimetype": "text/x-python",
   "name": "python",
   "nbconvert_exporter": "python",
   "pygments_lexer": "ipython3",
   "version": "3.7.3"
  }
 },
 "nbformat": 4,
 "nbformat_minor": 2
}
